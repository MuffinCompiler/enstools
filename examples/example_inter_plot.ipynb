{
 "cells": [
  {
   "cell_type": "markdown",
   "id": "e0d376a9-0396-4730-8593-59e3a850104f",
   "metadata": {},
   "source": [
    "# download test data"
   ]
  },
  {
   "cell_type": "code",
   "execution_count": null,
   "id": "da26bccd-4e4b-4915-8c7c-a72a593ab5ed",
   "metadata": {},
   "outputs": [],
   "source": [
    "# folder for all downloaded files\n",
    "import os\n",
    "if not os.path.exists(\"data\"):\n",
    "    os.makedirs(\"data\")\n",
    "\n",
    "# grid file for ICON-D2\n",
    "from enstools.misc import download\n",
    "grid_file = download(\"http://icon-downloads.mpimet.mpg.de/grids/public/edzw/icon_grid_0047_R19B07_L.nc\", \"data/icon_grid_0047_R19B07_L.nc\")"
   ]
  },
  {
   "cell_type": "code",
   "execution_count": null,
   "id": "dc1473b1-3401-43a6-b143-296372587923",
   "metadata": {},
   "outputs": [],
   "source": [
    "# use opendata from DWD\n",
    "from enstools.opendata import retrieve_nwp\n",
    "\n",
    "# Example data on D2 grid: temperature in 500 hPa\n",
    "file_t500 = retrieve_nwp(variable=[\"t\", \"fi\", \"u\", \"v\"],\n",
    "                         model=\"icon-d2\",\n",
    "                         grid_type=\"icosahedral\",\n",
    "                         level_type=\"pressure\",\n",
    "                         levels=[500],\n",
    "                         init_time=0,\n",
    "                         forecast_hour=[0],\n",
    "                         dest=\"data\",\n",
    "                         merge_files=False)"
   ]
  },
  {
   "cell_type": "markdown",
   "id": "70dcb130-9bdd-4fa8-a8b3-32858fd8f85f",
   "metadata": {},
   "source": [
    "# read test data"
   ]
  },
  {
   "cell_type": "code",
   "execution_count": null,
   "id": "8163462b-31a7-47a0-a1d2-672c069109da",
   "metadata": {},
   "outputs": [],
   "source": [
    "from enstools.io import read"
   ]
  },
  {
   "cell_type": "code",
   "execution_count": null,
   "id": "feea59c1-22e0-4ae4-afb7-d28cf587760d",
   "metadata": {},
   "outputs": [],
   "source": [
    "icon_d2 = read(file_t500, constant=grid_file)"
   ]
  },
  {
   "cell_type": "code",
   "execution_count": null,
   "id": "64bc50fa-3340-428f-a960-bda1c8832342",
   "metadata": {},
   "outputs": [],
   "source": [
    "icon_d2"
   ]
  },
  {
   "cell_type": "markdown",
   "id": "58e10aeb-6164-4b8b-a6f2-00ce39b484e7",
   "metadata": {},
   "source": [
    "# create an interactive plot using Bokeh"
   ]
  },
  {
   "cell_type": "code",
   "execution_count": null,
   "id": "89451c1f-8720-44a1-b559-42ccad09400c",
   "metadata": {},
   "outputs": [],
   "source": [
    "from enstools.plot import interactive_contours, Backend\n",
    "from bokeh.io import show, output_notebook\n",
    "output_notebook()"
   ]
  },
  {
   "cell_type": "code",
   "execution_count": null,
   "id": "c336ffe5-ba2b-4610-b8b9-c2fc4450f0a4",
   "metadata": {},
   "outputs": [],
   "source": [
    "fig1 = interactive_contours(icon_d2['t'][0,0,...], aspect=1.25)"
   ]
  },
  {
   "cell_type": "code",
   "execution_count": null,
   "id": "7ed61863-ccb8-4fa6-9f68-2decf7e9fbcf",
   "metadata": {},
   "outputs": [],
   "source": [
    "show(fig1)"
   ]
  },
  {
   "cell_type": "code",
   "execution_count": null,
   "id": "2ec51904-d6bd-4c17-b484-b5364a86bec4",
   "metadata": {},
   "outputs": [],
   "source": [
    "fig1 = interactive_contours(icon_d2['z'][0,0,...], filled=False, figure=fig1, line_width=4)"
   ]
  },
  {
   "cell_type": "code",
   "execution_count": null,
   "id": "52f97c41-1200-472a-bfea-2157ddec3354",
   "metadata": {},
   "outputs": [],
   "source": [
    "show(fig1)"
   ]
  },
  {
   "cell_type": "markdown",
   "id": "0d7d7151-aa0b-4ceb-ac04-97c5c573041b",
   "metadata": {},
   "source": [
    "# Create an interactive plot using Plotly"
   ]
  },
  {
   "cell_type": "code",
   "execution_count": null,
   "id": "38bbba68-48df-4161-913c-6b0ae6daf29d",
   "metadata": {},
   "outputs": [],
   "source": [
    "fig2 = interactive_contours(icon_d2['t'][0,0,...], aspect=1.25, filled=False, backend=Backend.PLOTLY)"
   ]
  },
  {
   "cell_type": "code",
   "execution_count": null,
   "id": "6d8636bc-5352-48d4-9f83-b5bb72f52b86",
   "metadata": {},
   "outputs": [],
   "source": [
    "fig2"
   ]
  },
  {
   "cell_type": "markdown",
   "id": "05c739df-979d-40f2-994b-e6621da64226",
   "metadata": {},
   "source": [
    "# Create a streamline plot with Bokeh"
   ]
  },
  {
   "cell_type": "code",
   "execution_count": null,
   "id": "8e0c6abf-bad7-4f2a-acd0-10dd455ddb1a",
   "metadata": {},
   "outputs": [],
   "source": [
    "from enstools.plot import interactive_streamlines, Backend, Stream"
   ]
  },
  {
   "cell_type": "code",
   "execution_count": null,
   "id": "696ab508-890a-47c3-9c23-8fedf132c59b",
   "metadata": {},
   "outputs": [],
   "source": [
    "import xarray as xr\n",
    "icon_d2['ff'] = xr.ufuncs.sqrt(icon_d2['u']**2 + icon_d2['v']**2)"
   ]
  },
  {
   "cell_type": "code",
   "execution_count": null,
   "id": "c5b509ff-1bfa-4ceb-949f-8ae0b26a5e6c",
   "metadata": {},
   "outputs": [],
   "source": [
    "fig3 = interactive_contours(icon_d2['ff'][0,0,...], aspect=1.25)\n",
    "fig3 = interactive_streamlines(icon_d2['u'][0,0,...], icon_d2['v'][0,0,...], figure=fig3)"
   ]
  },
  {
   "cell_type": "code",
   "execution_count": null,
   "id": "1f9a29cb-ec30-4087-8d98-db5690672efd",
   "metadata": {},
   "outputs": [],
   "source": [
    "show(fig3)"
   ]
  },
  {
   "cell_type": "markdown",
   "id": "d8ab1064-8fcb-45de-bbe9-a8003c2c7690",
   "metadata": {},
   "source": [
    "# Create a streamline plot with Plotly"
   ]
  },
  {
   "cell_type": "code",
   "execution_count": null,
   "id": "c007f59d-753e-45ec-97e1-c0cecc6b9ba5",
   "metadata": {},
   "outputs": [],
   "source": [
    "fig4 = interactive_streamlines(icon_d2['u'][0,0,...], icon_d2['v'][0,0,...], aspect=1.25, backend=Backend.PLOTLY)"
   ]
  },
  {
   "cell_type": "code",
   "execution_count": null,
   "id": "b4b14777-2100-421b-8be0-f2c93f5d56d0",
   "metadata": {},
   "outputs": [],
   "source": [
    "fig4"
   ]
  },
  {
   "cell_type": "markdown",
   "id": "831cee35-b827-4aec-8582-8980d2a139dd",
   "metadata": {},
   "source": [
    "# Create a vector plot with Bokeh"
   ]
  },
  {
   "cell_type": "code",
   "execution_count": null,
   "id": "842b3b62-f3f7-427d-bd6c-da8c01678d30",
   "metadata": {},
   "outputs": [],
   "source": [
    "fig5 = interactive_streamlines(icon_d2['u'][0,0,...], icon_d2['v'][0,0,...], aspect=1.25, line_type=Stream.VECTOR, density=1, map_resolution=\"50m\")"
   ]
  },
  {
   "cell_type": "code",
   "execution_count": null,
   "id": "f6121aa1-f48e-43b1-8398-4a2137f1e073",
   "metadata": {},
   "outputs": [],
   "source": [
    "show(fig5)"
   ]
  },
  {
   "cell_type": "code",
   "execution_count": null,
   "id": "7ecb9925-71e9-43cd-a2af-b3047d4ea4fa",
   "metadata": {},
   "outputs": [],
   "source": []
  }
 ],
 "metadata": {
  "kernelspec": {
   "display_name": "Python 3",
   "language": "python",
   "name": "python3"
  },
  "language_info": {
   "codemirror_mode": {
    "name": "ipython",
    "version": 3
   },
   "file_extension": ".py",
   "mimetype": "text/x-python",
   "name": "python",
   "nbconvert_exporter": "python",
   "pygments_lexer": "ipython3",
   "version": "3.9.5"
  }
 },
 "nbformat": 4,
 "nbformat_minor": 5
}
