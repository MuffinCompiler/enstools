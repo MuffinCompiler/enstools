{
 "cells": [
  {
   "cell_type": "code",
   "execution_count": null,
   "metadata": {
    "tags": []
   },
   "outputs": [],
   "source": [
    "# create some test data. Add a high freqency and a low frequency wave together."
   ]
  },
  {
   "cell_type": "code",
   "execution_count": null,
   "metadata": {
    "collapsed": false,
    "jupyter": {
     "outputs_hidden": false
    },
    "pycharm": {
     "name": "#%%\n"
    }
   },
   "outputs": [],
   "source": [
    "from enstools.misc import generate_coordinates\n",
    "import xarray as xr\n",
    "import numpy as np\n",
    "lon, lat = generate_coordinates(0.5, lon_range=[-20,20], lat_range=[-10,10])\n",
    "xval, _ = np.meshgrid(\n",
    "    np.sin(np.linspace(-8*np.pi, 8*np.pi, len(lon))),\n",
    "    np.zeros(40)\n",
    ")\n",
    "data = xval\n",
    "xval, _ = np.meshgrid(\n",
    "    np.sin(np.linspace(-2*np.pi, 2*np.pi, len(lon))),\n",
    "    np.zeros(40)\n",
    ")\n",
    "data += xval\n",
    "data = xr.DataArray(data, coords=[lat, lon], dims=('lat', 'lon'), name=\"Test\")"
   ]
  },
  {
   "cell_type": "code",
   "execution_count": null,
   "metadata": {
    "collapsed": false,
    "jupyter": {
     "outputs_hidden": false
    },
    "pycharm": {
     "name": "#%%\n"
    }
   },
   "outputs": [],
   "source": [
    "data"
   ]
  },
  {
   "cell_type": "code",
   "execution_count": null,
   "metadata": {
    "collapsed": false,
    "jupyter": {
     "outputs_hidden": false
    },
    "pycharm": {
     "name": "#%%\n"
    }
   },
   "outputs": [],
   "source": [
    "from enstools.plot.interactive import interactive_contours\n",
    "from bokeh.io import output_notebook, show\n",
    "output_notebook()"
   ]
  },
  {
   "cell_type": "code",
   "execution_count": null,
   "metadata": {},
   "outputs": [],
   "source": [
    "f1 = interactive_contours(data)\n",
    "show(f1)"
   ]
  },
  {
   "cell_type": "code",
   "execution_count": null,
   "metadata": {},
   "outputs": [],
   "source": [
    "# filter the data using dct 2d filter\n",
    "from enstools.filters import dct_2d_regional"
   ]
  },
  {
   "cell_type": "code",
   "execution_count": null,
   "metadata": {},
   "outputs": [],
   "source": [
    "# low-pass\n",
    "filtered = dct_2d_regional(data, lon, lat, ucutoff=1000)"
   ]
  },
  {
   "cell_type": "code",
   "execution_count": null,
   "metadata": {},
   "outputs": [],
   "source": [
    "f2 = interactive_contours(filtered)\n",
    "show(f2)"
   ]
  },
  {
   "cell_type": "code",
   "execution_count": null,
   "metadata": {},
   "outputs": [],
   "source": [
    "# high-pass\n",
    "filtered = dct_2d_regional(data, lon, lat, lcutoff=1000)"
   ]
  },
  {
   "cell_type": "code",
   "execution_count": null,
   "metadata": {},
   "outputs": [],
   "source": [
    "f3 = interactive_contours(filtered)\n",
    "show(f3)"
   ]
  },
  {
   "cell_type": "code",
   "execution_count": null,
   "metadata": {},
   "outputs": [],
   "source": []
  }
 ],
 "metadata": {
  "kernelspec": {
   "display_name": "Python 3 (ipykernel)",
   "language": "python",
   "name": "python3"
  },
  "language_info": {
   "codemirror_mode": {
    "name": "ipython",
    "version": 3
   },
   "file_extension": ".py",
   "mimetype": "text/x-python",
   "name": "python",
   "nbconvert_exporter": "python",
   "pygments_lexer": "ipython3",
   "version": "3.8.10"
  }
 },
 "nbformat": 4,
 "nbformat_minor": 4
}